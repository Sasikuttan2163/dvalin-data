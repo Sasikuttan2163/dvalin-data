{
 "cells": [
  {
   "cell_type": "code",
   "execution_count": 1,
   "metadata": {
    "collapsed": true,
    "pycharm": {
     "name": "#%%\n"
    }
   },
   "outputs": [],
   "source": [
    "import json\n",
    "import os"
   ]
  },
  {
   "cell_type": "code",
   "execution_count": 10,
   "outputs": [
    {
     "data": {
      "text/plain": "'utf-8'"
     },
     "execution_count": 10,
     "metadata": {},
     "output_type": "execute_result"
    }
   ],
   "source": [
    "import chardet\n",
    "\n",
    "chardet.detect(open(\"../data/EN/Character/albedo.json\", \"rb\").read())['encoding']"
   ],
   "metadata": {
    "collapsed": false,
    "pycharm": {
     "name": "#%%\n"
    }
   }
  },
  {
   "cell_type": "code",
   "execution_count": 25,
   "outputs": [
    {
     "data": {
      "text/plain": "{'_id': 10000038,\n 'id': 'albedo',\n 'name': 'Albedo',\n 'title': 'Kreideprinz',\n 'description': 'A genius known as the Kreideprinz, he is the Chief Alchemist and Captain of the Investigation Team of the Knights of Favonius.',\n 'weapon_type': 'Sword',\n 'element': 'Geo',\n 'gender': 'Male',\n 'substat': 'Geo DMG Bonus',\n 'affiliation': 'Knights of Favonius',\n 'region': 'Mondstadt',\n 'rarity': 5,\n 'birthday': [13, 9],\n 'constellation': 'Princeps Cretaceus',\n 'domain': 'Forsaken Rift',\n 'cv': {'english': 'Khoi Dao',\n  'chinese': 'Mace',\n  'japanese': '野島健児',\n  'korean': 'Kim Myeong-joon'},\n 'skills': [{'_id': 10386,\n   'id': 'normal_attack_favonius_bladework_weiss',\n   'name': 'Normal Attack: Favonius Bladework - Weiss',\n   'description': '<span>Normal Attack</span><br/>Performs up to 5 rapid strikes.<br/><br/><span>Charged Attack</span><br/>Consumes a certain amount of Stamina to unleash 2 rapid sword strikes.<br/><br/><span>Plunging Attack</span><br/>Plunges from mid-air to strike the ground below, damaging opponents along the path and dealing AoE DMG upon impact.',\n   'info': '',\n   'attributes': [{'label': '1-Hit DMG',\n     'values': ['36.74%',\n      '39.73%',\n      '42.72%',\n      '46.99%',\n      '49.98%',\n      '53.4%',\n      '58.1%',\n      '62.8%',\n      '67.5%',\n      '72.62%',\n      '78.5%',\n      '85.41%',\n      '92.31%',\n      '99.22%',\n      '106.76%']},\n    {'label': '2-Hit DMG',\n     'values': ['36.74%',\n      '39.73%',\n      '42.72%',\n      '46.99%',\n      '49.98%',\n      '53.4%',\n      '58.1%',\n      '62.8%',\n      '67.5%',\n      '72.62%',\n      '78.5%',\n      '85.41%',\n      '92.31%',\n      '99.22%',\n      '106.76%']},\n    {'label': '3-Hit DMG',\n     'values': ['47.45%',\n      '51.32%',\n      '55.18%',\n      '60.7%',\n      '64.56%',\n      '68.98%',\n      '75.04%',\n      '81.11%',\n      '87.18%',\n      '93.81%',\n      '101.39%',\n      '110.32%',\n      '119.24%',\n      '128.16%',\n      '137.89%']},\n    {'label': '4-Hit DMG',\n     'values': ['49.75%',\n      '53.8%',\n      '57.85%',\n      '63.63%',\n      '67.68%',\n      '72.31%',\n      '78.68%',\n      '85.04%',\n      '91.4%',\n      '98.34%',\n      '106.3%',\n      '115.65%',\n      '125.01%',\n      '134.36%',\n      '144.57%']},\n    {'label': '5-Hit DMG',\n     'values': ['62.07%',\n      '67.13%',\n      '72.18%',\n      '79.4%',\n      '84.45%',\n      '90.22%',\n      '98.16%',\n      '106.1%',\n      '114.04%',\n      '122.7%',\n      '132.63%',\n      '144.3%',\n      '155.97%',\n      '167.64%',\n      '180.38%']},\n    {'label': 'Charged Attack DMG',\n     'values': ['47.3% + 60.2%',\n      '51.15% + 65.1%',\n      '55% + 70%',\n      '60.5% + 77%',\n      '64.35% + 81.9%',\n      '68.75% + 87.5%',\n      '74.8% + 95.2%',\n      '80.85% + 102.9%',\n      '86.9% + 110.6%',\n      '93.5% + 119%',\n      '101.06% + 128.62%',\n      '109.96% + 139.94%',\n      '118.85% + 151.26%',\n      '127.74% + 162.58%',\n      '137.44% + 174.93%']},\n    {'label': 'Charged Attack Stamina Cost',\n     'values': ['20',\n      '20',\n      '20',\n      '20',\n      '20',\n      '20',\n      '20',\n      '20',\n      '20',\n      '20',\n      '20',\n      '20',\n      '20',\n      '20',\n      '20']},\n    {'label': 'Plunge DMG',\n     'values': ['63.93%',\n      '69.14%',\n      '74.34%',\n      '81.77%',\n      '86.98%',\n      '92.93%',\n      '101.1%',\n      '109.28%',\n      '117.46%',\n      '126.38%',\n      '135.3%',\n      '144.22%',\n      '153.14%',\n      '162.06%',\n      '170.98%']},\n    {'label': 'Low/High Plunge DMG',\n     'values': ['127.84% / 159.68%',\n      '138.24% / 172.67%',\n      '148.65% / 185.67%',\n      '163.51% / 204.24%',\n      '173.92% / 217.23%',\n      '185.81% / 232.09%',\n      '202.16% / 252.51%',\n      '218.51% / 272.93%',\n      '234.86% / 293.36%',\n      '252.7% / 315.64%',\n      '270.54% / 337.92%',\n      '288.38% / 360.2%',\n      '306.22% / 382.48%',\n      '324.05% / 404.76%',\n      '341.89% / 427.04%']}]},\n  {'_id': 10387,\n   'id': 'abiogenesis_solar_isotoma',\n   'name': 'Abiogenesis: Solar Isotoma',\n   'description': \"Albedo creates a Solar Isotoma using alchemy, which deals <span>AoE Geo DMG</span> on appearance.<br/><br/><span>Solar Isotoma</span><br/>has the following properties:<br/>·When opponents within the Solar Isotoma field take DMG, the Solar Isotoma will generate Transient Blossoms which deal <span>AoE Geo DMG</span>. DMG dealt scales off Albedo's DEF. <br/>·Transient Blossoms can only be generated once every 2s.<br/>·When a character is located at the locus of the Solar Isotoma, the Solar Isotoma will accumulate Geo power to form a crystallized platform that lifts the character up to a certain height. Only one crystallized platform can exist at a time.<br/>·Solar Isotoma is considered a <span>Geo construct</span>. Only one Solar Isotoma created by Albedo himself can exist at a time. <br/><br/><span>Hold</span> to designate the location of the skill.\",\n   'info': 'This Geo bloom has an unusual property mirrored in the aim of alchemy. To rise from the earth, soar into the sky, and become the sun.',\n   'attributes': [{'label': 'Skill DMG',\n     'values': ['130.4%',\n      '140.18%',\n      '149.96%',\n      '163%',\n      '172.78%',\n      '182.56%',\n      '195.6%',\n      '208.64%',\n      '221.68%',\n      '234.72%',\n      '247.76%',\n      '260.8%',\n      '277.1%',\n      '293.4%',\n      '309.7%']},\n    {'label': 'Transient Blossom DMG',\n     'values': ['133.6% DEF',\n      '143.62% DEF',\n      '153.64% DEF',\n      '167% DEF',\n      '177.02% DEF',\n      '187.04% DEF',\n      '200.4% DEF',\n      '213.76% DEF',\n      '227.12% DEF',\n      '240.48% DEF',\n      '253.84% DEF',\n      '267.2% DEF',\n      '283.9% DEF',\n      '300.6% DEF',\n      '317.3% DEF']},\n    {'label': 'Duration',\n     'values': ['30s',\n      '30s',\n      '30s',\n      '30s',\n      '30s',\n      '30s',\n      '30s',\n      '30s',\n      '30s',\n      '30s',\n      '30s',\n      '30s',\n      '30s',\n      '30s',\n      '30s']},\n    {'label': 'Skill CD',\n     'values': ['4s',\n      '4s',\n      '4s',\n      '4s',\n      '4s',\n      '4s',\n      '4s',\n      '4s',\n      '4s',\n      '4s',\n      '4s',\n      '4s',\n      '4s',\n      '4s',\n      '4s']}]},\n  {'_id': 10388,\n   'id': 'rite_of_progeniture_tectonic_tide',\n   'name': 'Rite of Progeniture: Tectonic Tide',\n   'description': \"Under Albedo's command, Geo crystals surge and burst forth, dealing <span>AoE Geo DMG</span> in front of him.<br/>If a Solar Isotoma created by Albedo himself is on the field, 7 Fatal Blossoms will be generated in the Solar Isotoma field, bursting violently into bloom and dealing <span>AoE Geo DMG</span>.<br/><br/>Tectonic Tide DMG and Fatal Blossom DMG will not generate Transient Blossoms.\",\n   'info': \"Under the Kreideprinz's command, the tectonic tide of creation seethes into life.\",\n   'attributes': [{'label': 'Burst DMG',\n     'values': ['367.2%',\n      '394.74%',\n      '422.28%',\n      '459%',\n      '486.54%',\n      '514.08%',\n      '550.8%',\n      '587.52%',\n      '624.24%',\n      '660.96%',\n      '697.68%',\n      '734.4%',\n      '780.3%',\n      '826.2%',\n      '872.1%']},\n    {'label': 'Fatal Blossom DMG',\n     'values': ['72% each',\n      '77.4% each',\n      '82.8% each',\n      '90% each',\n      '95.4% each',\n      '100.8% each',\n      '108% each',\n      '115.2% each',\n      '122.4% each',\n      '129.6% each',\n      '136.8% each',\n      '144% each',\n      '153% each',\n      '162% each',\n      '171% each']},\n    {'label': 'CD',\n     'values': ['12s',\n      '12s',\n      '12s',\n      '12s',\n      '12s',\n      '12s',\n      '12s',\n      '12s',\n      '12s',\n      '12s',\n      '12s',\n      '12s',\n      '12s',\n      '12s',\n      '12s']},\n    {'label': 'Energy Cost',\n     'values': ['40',\n      '40',\n      '40',\n      '40',\n      '40',\n      '40',\n      '40',\n      '40',\n      '40',\n      '40',\n      '40',\n      '40',\n      '40',\n      '40',\n      '40']}]}],\n 'passives': [{'id': 'calcite_might',\n   'name': 'Calcite Might',\n   'description': 'Transient Blossoms generated by <span>Abiogenesis: Solar Isotoma</span> deal 25% more DMG to opponents whose HP is below 50%.',\n   'level': 1},\n  {'id': 'homuncular_nature',\n   'name': 'Homuncular Nature',\n   'description': 'Using <span>Rite of Progeniture: Tectonic Tide</span> increases the Elemental Mastery of nearby party members by 125 for 10s.',\n   'level': 4},\n  {'id': 'flash_of_genius',\n   'name': 'Flash of Genius',\n   'description': 'When Albedo crafts Weapon Ascension Materials, he has a 10% chance to receive double the product.',\n   'level': 0}],\n 'constellations': [{'_id': 381,\n   'id': 'flower_of_eden',\n   'name': 'Flower of Eden',\n   'description': \"Transient Blossoms generated by Albedo's <span>Abiogenesis: Solar Isotoma</span> regenerate 1.2 Energy for Albedo.\",\n   'level': 1},\n  {'_id': 382,\n   'id': 'opening_of_phanerozoic',\n   'name': 'Opening of Phanerozoic',\n   'description': \"Transient Blossoms generated by <span>Abiogenesis: Solar Isotoma</span> grant Albedo Fatal Reckoning for 30s:<br/>·Unleashing <span>Rite of Progeniture: Tectonic Tide</span> consumes all stacks of Fatal Reckoning. Each stack of Fatal Reckoning consumed increases the DMG dealt by Fatal Blossoms and Rite of Progeniture: Tectonic Tide's burst DMG by 30% of Albedo's DEF.<br/>·This effect stacks up to 4 times.\",\n   'level': 2},\n  {'_id': 383,\n   'id': 'grace_of_helios',\n   'name': 'Grace of Helios',\n   'description': 'Increases the Level of <span>Abiogenesis: Solar Isotoma</span> by 3.<br/>Maximum upgrade level is 15.',\n   'level': 3},\n  {'_id': 384,\n   'id': 'descent_of_divinity',\n   'name': 'Descent of Divinity',\n   'description': 'Active party members within the Solar Isotoma field have their Plunging Attack DMG increased by 30%.',\n   'level': 4},\n  {'_id': 385,\n   'id': 'tide_of_hadean',\n   'name': 'Tide of Hadean',\n   'description': 'Increases the Level of <span>Rite of Progeniture: Tectonic Tide</span> by 3.<br/>Maximum upgrade level is 15.',\n   'level': 5},\n  {'_id': 386,\n   'id': 'dust_of_purification',\n   'name': 'Dust of Purification',\n   'description': 'Active party members within the Solar Isotoma field who are protected by a shield created by Crystallize have their DMG increased by 17%.',\n   'level': 6}],\n 'ascension': [{'level': [1],\n   'stats': [{'label': 'Ascend', 'values': ['-', 1]},\n    {'label': 'Base HP', 'values': ['-', '1030']},\n    {'label': 'Base ATK', 'values': ['-', '20']},\n    {'label': 'Base DEF', 'values': ['-', '68']},\n    {'label': 'Geo DMG Bonus', 'values': ['-', '0.0%']}]},\n  {'level': [20],\n   'stats': [{'label': 'Ascend', 'values': [0, 1]},\n    {'label': 'Base HP', 'values': ['2671', '3554']},\n    {'label': 'Base ATK', 'values': ['51', '67']},\n    {'label': 'Base DEF', 'values': ['177', '235']},\n    {'label': 'Geo DMG Bonus', 'values': ['0.0%', '0.0%']}]},\n  {'level': [40],\n   'cost': 20000,\n   'stats': [{'label': 'Ascend', 'values': [1, 2]},\n    {'label': 'Base HP', 'values': ['5317', '5944']},\n    {'label': 'Base ATK', 'values': ['101', '113']},\n    {'label': 'Base DEF', 'values': ['352', '394']},\n    {'label': 'Geo DMG Bonus', 'values': ['0.0%', '7.2%']}],\n   'mat1': {'_id': 104171,\n    'id': 'prithiva_topaz_sliver',\n    'name': 'Prithiva Topaz Sliver',\n    'amount': 1,\n    'rarity': 2},\n   'mat3': {'_id': 100023,\n    'id': 'cecilia',\n    'name': 'Cecilia',\n    'amount': 3,\n    'rarity': 1},\n   'mat4': {'_id': 112008,\n    'id': 'divining_scroll',\n    'name': 'Divining Scroll',\n    'amount': 3,\n    'rarity': 1}},\n  {'level': [50],\n   'cost': 40000,\n   'stats': [{'label': 'Ascend', 'values': [2, 3]},\n    {'label': 'Base HP', 'values': ['6839', '7675']},\n    {'label': 'Base ATK', 'values': ['130', '146']},\n    {'label': 'Base DEF', 'values': ['453', '508']},\n    {'label': 'Geo DMG Bonus', 'values': ['7.2%', '14.4%']}],\n   'mat1': {'_id': 104172,\n    'id': 'prithiva_topaz_fragment',\n    'name': 'Prithiva Topaz Fragment',\n    'amount': 3,\n    'rarity': 3},\n   'mat2': {'_id': 113009,\n    'id': 'basalt_pillar',\n    'name': 'Basalt Pillar',\n    'amount': 2,\n    'rarity': 4},\n   'mat3': {'_id': 100023,\n    'id': 'cecilia',\n    'name': 'Cecilia',\n    'amount': 10,\n    'rarity': 1},\n   'mat4': {'_id': 112008,\n    'id': 'divining_scroll',\n    'name': 'Divining Scroll',\n    'amount': 15,\n    'rarity': 1}},\n  {'level': [60],\n   'cost': 60000,\n   'stats': [{'label': 'Ascend', 'values': [3, 4]},\n    {'label': 'Base HP', 'values': ['8579', '9207']},\n    {'label': 'Base ATK', 'values': ['163', '175']},\n    {'label': 'Base DEF', 'values': ['568', '610']},\n    {'label': 'Geo DMG Bonus', 'values': ['14.4%', '14.4%']}],\n   'mat1': {'_id': 104172,\n    'id': 'prithiva_topaz_fragment',\n    'name': 'Prithiva Topaz Fragment',\n    'amount': 6,\n    'rarity': 3},\n   'mat2': {'_id': 113009,\n    'id': 'basalt_pillar',\n    'name': 'Basalt Pillar',\n    'amount': 4,\n    'rarity': 4},\n   'mat3': {'_id': 100023,\n    'id': 'cecilia',\n    'name': 'Cecilia',\n    'amount': 20,\n    'rarity': 1},\n   'mat4': {'_id': 112009,\n    'id': 'sealed_scroll',\n    'name': 'Sealed Scroll',\n    'amount': 12,\n    'rarity': 2}},\n  {'level': [70],\n   'cost': 80000,\n   'stats': [{'label': 'Ascend', 'values': [4, 5]},\n    {'label': 'Base HP', 'values': ['10119', '10746']},\n    {'label': 'Base ATK', 'values': ['192', '204']},\n    {'label': 'Base DEF', 'values': ['670', '712']},\n    {'label': 'Geo DMG Bonus', 'values': ['14.4%', '21.6%']}],\n   'mat1': {'_id': 104173,\n    'id': 'prithiva_topaz_chunk',\n    'name': 'Prithiva Topaz Chunk',\n    'amount': 3,\n    'rarity': 4},\n   'mat2': {'_id': 113009,\n    'id': 'basalt_pillar',\n    'name': 'Basalt Pillar',\n    'amount': 8,\n    'rarity': 4},\n   'mat3': {'_id': 100023,\n    'id': 'cecilia',\n    'name': 'Cecilia',\n    'amount': 30,\n    'rarity': 1},\n   'mat4': {'_id': 112009,\n    'id': 'sealed_scroll',\n    'name': 'Sealed Scroll',\n    'amount': 18,\n    'rarity': 2}},\n  {'level': [80],\n   'cost': 100000,\n   'stats': [{'label': 'Ascend', 'values': [5, 6]},\n    {'label': 'Base HP', 'values': ['11669', '12296']},\n    {'label': 'Base ATK', 'values': ['222', '233']},\n    {'label': 'Base DEF', 'values': ['773', '815']},\n    {'label': 'Geo DMG Bonus', 'values': ['21.6%', '28.8%']}],\n   'mat1': {'_id': 104173,\n    'id': 'prithiva_topaz_chunk',\n    'name': 'Prithiva Topaz Chunk',\n    'amount': 6,\n    'rarity': 4},\n   'mat2': {'_id': 113009,\n    'id': 'basalt_pillar',\n    'name': 'Basalt Pillar',\n    'amount': 12,\n    'rarity': 4},\n   'mat3': {'_id': 100023,\n    'id': 'cecilia',\n    'name': 'Cecilia',\n    'amount': 45,\n    'rarity': 1},\n   'mat4': {'_id': 112010,\n    'id': 'forbidden_curse_scroll',\n    'name': 'Forbidden Curse Scroll',\n    'amount': 12,\n    'rarity': 3}},\n  {'level': [90],\n   'cost': 120000,\n   'stats': [{'label': 'Ascend', 'values': [6, 7]},\n    {'label': 'Base HP', 'values': ['13226', '13226']},\n    {'label': 'Base ATK', 'values': ['251', '251']},\n    {'label': 'Base DEF', 'values': ['876', '876']},\n    {'label': 'Geo DMG Bonus', 'values': ['28.8%', '28.8%']}],\n   'mat1': {'_id': 104174,\n    'id': 'prithiva_topaz_gemstone',\n    'name': 'Prithiva Topaz Gemstone',\n    'amount': 6,\n    'rarity': 5},\n   'mat2': {'_id': 113009,\n    'id': 'basalt_pillar',\n    'name': 'Basalt Pillar',\n    'amount': 20,\n    'rarity': 4},\n   'mat3': {'_id': 100023,\n    'id': 'cecilia',\n    'name': 'Cecilia',\n    'amount': 60,\n    'rarity': 1},\n   'mat4': {'_id': 112010,\n    'id': 'forbidden_curse_scroll',\n    'name': 'Forbidden Curse Scroll',\n    'amount': 24,\n    'rarity': 3}}],\n 'talent_materials': [{'level': 2,\n   'cost': 12500,\n   'items': [{'_id': 104307,\n     'id': 'teachings_of_ballad',\n     'name': 'Teachings of Ballad',\n     'amount': 3,\n     'rarity': 2},\n    {'_id': 112008,\n     'id': 'divining_scroll',\n     'name': 'Divining Scroll',\n     'amount': 6,\n     'rarity': 1}]},\n  {'level': 3,\n   'cost': 17500,\n   'items': [{'_id': 104308,\n     'id': 'guide_to_ballad',\n     'name': 'Guide to Ballad',\n     'amount': 2,\n     'rarity': 3},\n    {'_id': 112009,\n     'id': 'sealed_scroll',\n     'name': 'Sealed Scroll',\n     'amount': 3,\n     'rarity': 2}]},\n  {'level': 4,\n   'cost': 25000,\n   'items': [{'_id': 104308,\n     'id': 'guide_to_ballad',\n     'name': 'Guide to Ballad',\n     'amount': 4,\n     'rarity': 3},\n    {'_id': 112009,\n     'id': 'sealed_scroll',\n     'name': 'Sealed Scroll',\n     'amount': 4,\n     'rarity': 2}]},\n  {'level': 5,\n   'cost': 30000,\n   'items': [{'_id': 104308,\n     'id': 'guide_to_ballad',\n     'name': 'Guide to Ballad',\n     'amount': 6,\n     'rarity': 3},\n    {'_id': 112009,\n     'id': 'sealed_scroll',\n     'name': 'Sealed Scroll',\n     'amount': 6,\n     'rarity': 2}]},\n  {'level': 6,\n   'cost': 37500,\n   'items': [{'_id': 104308,\n     'id': 'guide_to_ballad',\n     'name': 'Guide to Ballad',\n     'amount': 9,\n     'rarity': 3},\n    {'_id': 112009,\n     'id': 'sealed_scroll',\n     'name': 'Sealed Scroll',\n     'amount': 9,\n     'rarity': 2}]},\n  {'level': 7,\n   'cost': 120000,\n   'items': [{'_id': 104309,\n     'id': 'philosophies_of_ballad',\n     'name': 'Philosophies of Ballad',\n     'amount': 4,\n     'rarity': 4},\n    {'_id': 112010,\n     'id': 'forbidden_curse_scroll',\n     'name': 'Forbidden Curse Scroll',\n     'amount': 4,\n     'rarity': 3},\n    {'_id': 113013,\n     'id': 'tusk_of_monoceros_caeli',\n     'name': 'Tusk of Monoceros Caeli',\n     'amount': 1,\n     'rarity': 5}]},\n  {'level': 8,\n   'cost': 260000,\n   'items': [{'_id': 104309,\n     'id': 'philosophies_of_ballad',\n     'name': 'Philosophies of Ballad',\n     'amount': 6,\n     'rarity': 4},\n    {'_id': 112010,\n     'id': 'forbidden_curse_scroll',\n     'name': 'Forbidden Curse Scroll',\n     'amount': 6,\n     'rarity': 3},\n    {'_id': 113013,\n     'id': 'tusk_of_monoceros_caeli',\n     'name': 'Tusk of Monoceros Caeli',\n     'amount': 1,\n     'rarity': 5}]},\n  {'level': 9,\n   'cost': 450000,\n   'items': [{'_id': 104309,\n     'id': 'philosophies_of_ballad',\n     'name': 'Philosophies of Ballad',\n     'amount': 12,\n     'rarity': 4},\n    {'_id': 112010,\n     'id': 'forbidden_curse_scroll',\n     'name': 'Forbidden Curse Scroll',\n     'amount': 9,\n     'rarity': 3},\n    {'_id': 113013,\n     'id': 'tusk_of_monoceros_caeli',\n     'name': 'Tusk of Monoceros Caeli',\n     'amount': 2,\n     'rarity': 5}]},\n  {'level': 10,\n   'cost': 700000,\n   'items': [{'_id': 104309,\n     'id': 'philosophies_of_ballad',\n     'name': 'Philosophies of Ballad',\n     'amount': 16,\n     'rarity': 4},\n    {'_id': 112010,\n     'id': 'forbidden_curse_scroll',\n     'name': 'Forbidden Curse Scroll',\n     'amount': 12,\n     'rarity': 3},\n    {'_id': 113013,\n     'id': 'tusk_of_monoceros_caeli',\n     'name': 'Tusk of Monoceros Caeli',\n     'amount': 2,\n     'rarity': 5},\n    {'_id': 104319,\n     'id': 'crown_of_insight',\n     'name': 'Crown of Insight',\n     'amount': 1,\n     'rarity': 5}]}]}"
     },
     "execution_count": 25,
     "metadata": {},
     "output_type": "execute_result"
    }
   ],
   "source": [
    "with open(\"../data/EN/Character/albedo.json\", \"r\", encoding=\"utf-8\") as f:\n",
    "    albedo = json.load(f)\n",
    "albedo"
   ],
   "metadata": {
    "collapsed": false,
    "pycharm": {
     "name": "#%%\n"
    }
   }
  },
  {
   "cell_type": "code",
   "execution_count": 20,
   "outputs": [
    {
     "name": "stdout",
     "output_type": "stream",
     "text": [
      "albedo\n",
      "['normal_attack_favonius_bladework_weiss', 'abiogenesis_solar_isotoma', 'rite_of_progeniture_tectonic_tide']\n",
      "['calcite_might', 'homuncular_nature', 'flash_of_genius']\n",
      "['flower_of_eden', 'opening_of_phanerozoic', 'grace_of_helios', 'descent_of_divinity', 'tide_of_hadean', 'dust_of_purification']\n",
      "prithiva_topaz_sliver\n",
      "cecilia\n",
      "divining_scroll\n",
      "prithiva_topaz_fragment\n",
      "basalt_pillar\n",
      "cecilia\n",
      "divining_scroll\n",
      "prithiva_topaz_fragment\n",
      "basalt_pillar\n",
      "cecilia\n",
      "sealed_scroll\n",
      "prithiva_topaz_chunk\n",
      "basalt_pillar\n",
      "cecilia\n",
      "sealed_scroll\n",
      "prithiva_topaz_chunk\n",
      "basalt_pillar\n",
      "cecilia\n",
      "forbidden_curse_scroll\n",
      "prithiva_topaz_gemstone\n",
      "basalt_pillar\n",
      "cecilia\n",
      "forbidden_curse_scroll\n",
      "['teachings_of_ballad', 'divining_scroll']\n",
      "['guide_to_ballad', 'sealed_scroll']\n",
      "['guide_to_ballad', 'sealed_scroll']\n",
      "['guide_to_ballad', 'sealed_scroll']\n",
      "['guide_to_ballad', 'sealed_scroll']\n",
      "['philosophies_of_ballad', 'forbidden_curse_scroll', 'tusk_of_monoceros_caeli']\n",
      "['philosophies_of_ballad', 'forbidden_curse_scroll', 'tusk_of_monoceros_caeli']\n",
      "['philosophies_of_ballad', 'forbidden_curse_scroll', 'tusk_of_monoceros_caeli']\n",
      "['philosophies_of_ballad', 'forbidden_curse_scroll', 'tusk_of_monoceros_caeli', 'crown_of_insight']\n"
     ]
    }
   ],
   "source": [
    "# id\n",
    "# skills --> list --> dict id for norm, skill, burst,\n",
    "# passive id\n",
    "# constellation --> list --> dict id for each c\n",
    "# ascension mat id\n",
    "# talent mat id\n",
    "print(albedo[\"id\"])\n",
    "print([skill[\"id\"] for skill in albedo[\"skills\"]])\n",
    "print([passive[\"id\"] for passive in albedo[\"passives\"]])\n",
    "print([const[\"id\"] for const in albedo[\"constellations\"]])\n",
    "for asc in albedo[\"ascension\"]:\n",
    "    for key in asc:\n",
    "        if \"mat\" in key:\n",
    "            print(asc[key][\"id\"])\n",
    "for tal in albedo[\"talent_materials\"]:\n",
    "    print([item[\"id\"] for item in tal[\"items\"]])"
   ],
   "metadata": {
    "collapsed": false,
    "pycharm": {
     "name": "#%%\n"
    }
   }
  },
  {
   "cell_type": "code",
   "execution_count": 21,
   "outputs": [
    {
     "name": "stdout",
     "output_type": "stream",
     "text": [
      "albedo\n",
      "normalAttackFavoniusBladeworkWeiss\n"
     ]
    }
   ],
   "source": [
    "def pascal(str):\n",
    "    words = str.split(\"_\")\n",
    "    return words[0] + \"\".join(word.capitalize() for word in words[1:])\n",
    "\n",
    "print(pascal(\"albedo\"))\n",
    "print(pascal(\"normal_attack_favonius_bladework_weiss\"))"
   ],
   "metadata": {
    "collapsed": false,
    "pycharm": {
     "name": "#%%\n"
    }
   }
  },
  {
   "cell_type": "code",
   "execution_count": 28,
   "outputs": [
    {
     "data": {
      "text/plain": "{'_id': 10000038,\n 'id': 'albedo',\n 'name': 'Albedo',\n 'title': 'Kreideprinz',\n 'description': 'A genius known as the Kreideprinz, he is the Chief Alchemist and Captain of the Investigation Team of the Knights of Favonius.',\n 'weapon_type': 'Sword',\n 'element': 'Geo',\n 'gender': 'Male',\n 'substat': 'Geo DMG Bonus',\n 'affiliation': 'Knights of Favonius',\n 'region': 'Mondstadt',\n 'rarity': 5,\n 'birthday': [13, 9],\n 'constellation': 'Princeps Cretaceus',\n 'domain': 'Forsaken Rift',\n 'cv': {'english': 'Khoi Dao',\n  'chinese': 'Mace',\n  'japanese': '野島健児',\n  'korean': 'Kim Myeong-joon'},\n 'skills': [{'_id': 10386,\n   'id': 'normalAttackFavoniusBladeworkWeiss',\n   'name': 'Normal Attack: Favonius Bladework - Weiss',\n   'description': '<span>Normal Attack</span><br/>Performs up to 5 rapid strikes.<br/><br/><span>Charged Attack</span><br/>Consumes a certain amount of Stamina to unleash 2 rapid sword strikes.<br/><br/><span>Plunging Attack</span><br/>Plunges from mid-air to strike the ground below, damaging opponents along the path and dealing AoE DMG upon impact.',\n   'info': '',\n   'attributes': [{'label': '1-Hit DMG',\n     'values': ['36.74%',\n      '39.73%',\n      '42.72%',\n      '46.99%',\n      '49.98%',\n      '53.4%',\n      '58.1%',\n      '62.8%',\n      '67.5%',\n      '72.62%',\n      '78.5%',\n      '85.41%',\n      '92.31%',\n      '99.22%',\n      '106.76%']},\n    {'label': '2-Hit DMG',\n     'values': ['36.74%',\n      '39.73%',\n      '42.72%',\n      '46.99%',\n      '49.98%',\n      '53.4%',\n      '58.1%',\n      '62.8%',\n      '67.5%',\n      '72.62%',\n      '78.5%',\n      '85.41%',\n      '92.31%',\n      '99.22%',\n      '106.76%']},\n    {'label': '3-Hit DMG',\n     'values': ['47.45%',\n      '51.32%',\n      '55.18%',\n      '60.7%',\n      '64.56%',\n      '68.98%',\n      '75.04%',\n      '81.11%',\n      '87.18%',\n      '93.81%',\n      '101.39%',\n      '110.32%',\n      '119.24%',\n      '128.16%',\n      '137.89%']},\n    {'label': '4-Hit DMG',\n     'values': ['49.75%',\n      '53.8%',\n      '57.85%',\n      '63.63%',\n      '67.68%',\n      '72.31%',\n      '78.68%',\n      '85.04%',\n      '91.4%',\n      '98.34%',\n      '106.3%',\n      '115.65%',\n      '125.01%',\n      '134.36%',\n      '144.57%']},\n    {'label': '5-Hit DMG',\n     'values': ['62.07%',\n      '67.13%',\n      '72.18%',\n      '79.4%',\n      '84.45%',\n      '90.22%',\n      '98.16%',\n      '106.1%',\n      '114.04%',\n      '122.7%',\n      '132.63%',\n      '144.3%',\n      '155.97%',\n      '167.64%',\n      '180.38%']},\n    {'label': 'Charged Attack DMG',\n     'values': ['47.3% + 60.2%',\n      '51.15% + 65.1%',\n      '55% + 70%',\n      '60.5% + 77%',\n      '64.35% + 81.9%',\n      '68.75% + 87.5%',\n      '74.8% + 95.2%',\n      '80.85% + 102.9%',\n      '86.9% + 110.6%',\n      '93.5% + 119%',\n      '101.06% + 128.62%',\n      '109.96% + 139.94%',\n      '118.85% + 151.26%',\n      '127.74% + 162.58%',\n      '137.44% + 174.93%']},\n    {'label': 'Charged Attack Stamina Cost',\n     'values': ['20',\n      '20',\n      '20',\n      '20',\n      '20',\n      '20',\n      '20',\n      '20',\n      '20',\n      '20',\n      '20',\n      '20',\n      '20',\n      '20',\n      '20']},\n    {'label': 'Plunge DMG',\n     'values': ['63.93%',\n      '69.14%',\n      '74.34%',\n      '81.77%',\n      '86.98%',\n      '92.93%',\n      '101.1%',\n      '109.28%',\n      '117.46%',\n      '126.38%',\n      '135.3%',\n      '144.22%',\n      '153.14%',\n      '162.06%',\n      '170.98%']},\n    {'label': 'Low/High Plunge DMG',\n     'values': ['127.84% / 159.68%',\n      '138.24% / 172.67%',\n      '148.65% / 185.67%',\n      '163.51% / 204.24%',\n      '173.92% / 217.23%',\n      '185.81% / 232.09%',\n      '202.16% / 252.51%',\n      '218.51% / 272.93%',\n      '234.86% / 293.36%',\n      '252.7% / 315.64%',\n      '270.54% / 337.92%',\n      '288.38% / 360.2%',\n      '306.22% / 382.48%',\n      '324.05% / 404.76%',\n      '341.89% / 427.04%']}]},\n  {'_id': 10387,\n   'id': 'abiogenesisSolarIsotoma',\n   'name': 'Abiogenesis: Solar Isotoma',\n   'description': \"Albedo creates a Solar Isotoma using alchemy, which deals <span>AoE Geo DMG</span> on appearance.<br/><br/><span>Solar Isotoma</span><br/>has the following properties:<br/>·When opponents within the Solar Isotoma field take DMG, the Solar Isotoma will generate Transient Blossoms which deal <span>AoE Geo DMG</span>. DMG dealt scales off Albedo's DEF. <br/>·Transient Blossoms can only be generated once every 2s.<br/>·When a character is located at the locus of the Solar Isotoma, the Solar Isotoma will accumulate Geo power to form a crystallized platform that lifts the character up to a certain height. Only one crystallized platform can exist at a time.<br/>·Solar Isotoma is considered a <span>Geo construct</span>. Only one Solar Isotoma created by Albedo himself can exist at a time. <br/><br/><span>Hold</span> to designate the location of the skill.\",\n   'info': 'This Geo bloom has an unusual property mirrored in the aim of alchemy. To rise from the earth, soar into the sky, and become the sun.',\n   'attributes': [{'label': 'Skill DMG',\n     'values': ['130.4%',\n      '140.18%',\n      '149.96%',\n      '163%',\n      '172.78%',\n      '182.56%',\n      '195.6%',\n      '208.64%',\n      '221.68%',\n      '234.72%',\n      '247.76%',\n      '260.8%',\n      '277.1%',\n      '293.4%',\n      '309.7%']},\n    {'label': 'Transient Blossom DMG',\n     'values': ['133.6% DEF',\n      '143.62% DEF',\n      '153.64% DEF',\n      '167% DEF',\n      '177.02% DEF',\n      '187.04% DEF',\n      '200.4% DEF',\n      '213.76% DEF',\n      '227.12% DEF',\n      '240.48% DEF',\n      '253.84% DEF',\n      '267.2% DEF',\n      '283.9% DEF',\n      '300.6% DEF',\n      '317.3% DEF']},\n    {'label': 'Duration',\n     'values': ['30s',\n      '30s',\n      '30s',\n      '30s',\n      '30s',\n      '30s',\n      '30s',\n      '30s',\n      '30s',\n      '30s',\n      '30s',\n      '30s',\n      '30s',\n      '30s',\n      '30s']},\n    {'label': 'Skill CD',\n     'values': ['4s',\n      '4s',\n      '4s',\n      '4s',\n      '4s',\n      '4s',\n      '4s',\n      '4s',\n      '4s',\n      '4s',\n      '4s',\n      '4s',\n      '4s',\n      '4s',\n      '4s']}]},\n  {'_id': 10388,\n   'id': 'riteOfProgenitureTectonicTide',\n   'name': 'Rite of Progeniture: Tectonic Tide',\n   'description': \"Under Albedo's command, Geo crystals surge and burst forth, dealing <span>AoE Geo DMG</span> in front of him.<br/>If a Solar Isotoma created by Albedo himself is on the field, 7 Fatal Blossoms will be generated in the Solar Isotoma field, bursting violently into bloom and dealing <span>AoE Geo DMG</span>.<br/><br/>Tectonic Tide DMG and Fatal Blossom DMG will not generate Transient Blossoms.\",\n   'info': \"Under the Kreideprinz's command, the tectonic tide of creation seethes into life.\",\n   'attributes': [{'label': 'Burst DMG',\n     'values': ['367.2%',\n      '394.74%',\n      '422.28%',\n      '459%',\n      '486.54%',\n      '514.08%',\n      '550.8%',\n      '587.52%',\n      '624.24%',\n      '660.96%',\n      '697.68%',\n      '734.4%',\n      '780.3%',\n      '826.2%',\n      '872.1%']},\n    {'label': 'Fatal Blossom DMG',\n     'values': ['72% each',\n      '77.4% each',\n      '82.8% each',\n      '90% each',\n      '95.4% each',\n      '100.8% each',\n      '108% each',\n      '115.2% each',\n      '122.4% each',\n      '129.6% each',\n      '136.8% each',\n      '144% each',\n      '153% each',\n      '162% each',\n      '171% each']},\n    {'label': 'CD',\n     'values': ['12s',\n      '12s',\n      '12s',\n      '12s',\n      '12s',\n      '12s',\n      '12s',\n      '12s',\n      '12s',\n      '12s',\n      '12s',\n      '12s',\n      '12s',\n      '12s',\n      '12s']},\n    {'label': 'Energy Cost',\n     'values': ['40',\n      '40',\n      '40',\n      '40',\n      '40',\n      '40',\n      '40',\n      '40',\n      '40',\n      '40',\n      '40',\n      '40',\n      '40',\n      '40',\n      '40']}]}],\n 'passives': [{'id': 'calciteMight',\n   'name': 'Calcite Might',\n   'description': 'Transient Blossoms generated by <span>Abiogenesis: Solar Isotoma</span> deal 25% more DMG to opponents whose HP is below 50%.',\n   'level': 1},\n  {'id': 'homuncularNature',\n   'name': 'Homuncular Nature',\n   'description': 'Using <span>Rite of Progeniture: Tectonic Tide</span> increases the Elemental Mastery of nearby party members by 125 for 10s.',\n   'level': 4},\n  {'id': 'flashOfGenius',\n   'name': 'Flash of Genius',\n   'description': 'When Albedo crafts Weapon Ascension Materials, he has a 10% chance to receive double the product.',\n   'level': 0}],\n 'constellations': [{'_id': 381,\n   'id': 'flowerOfEden',\n   'name': 'Flower of Eden',\n   'description': \"Transient Blossoms generated by Albedo's <span>Abiogenesis: Solar Isotoma</span> regenerate 1.2 Energy for Albedo.\",\n   'level': 1},\n  {'_id': 382,\n   'id': 'openingOfPhanerozoic',\n   'name': 'Opening of Phanerozoic',\n   'description': \"Transient Blossoms generated by <span>Abiogenesis: Solar Isotoma</span> grant Albedo Fatal Reckoning for 30s:<br/>·Unleashing <span>Rite of Progeniture: Tectonic Tide</span> consumes all stacks of Fatal Reckoning. Each stack of Fatal Reckoning consumed increases the DMG dealt by Fatal Blossoms and Rite of Progeniture: Tectonic Tide's burst DMG by 30% of Albedo's DEF.<br/>·This effect stacks up to 4 times.\",\n   'level': 2},\n  {'_id': 383,\n   'id': 'graceOfHelios',\n   'name': 'Grace of Helios',\n   'description': 'Increases the Level of <span>Abiogenesis: Solar Isotoma</span> by 3.<br/>Maximum upgrade level is 15.',\n   'level': 3},\n  {'_id': 384,\n   'id': 'descentOfDivinity',\n   'name': 'Descent of Divinity',\n   'description': 'Active party members within the Solar Isotoma field have their Plunging Attack DMG increased by 30%.',\n   'level': 4},\n  {'_id': 385,\n   'id': 'tideOfHadean',\n   'name': 'Tide of Hadean',\n   'description': 'Increases the Level of <span>Rite of Progeniture: Tectonic Tide</span> by 3.<br/>Maximum upgrade level is 15.',\n   'level': 5},\n  {'_id': 386,\n   'id': 'dustOfPurification',\n   'name': 'Dust of Purification',\n   'description': 'Active party members within the Solar Isotoma field who are protected by a shield created by Crystallize have their DMG increased by 17%.',\n   'level': 6}],\n 'ascension': [{'level': [1],\n   'stats': [{'label': 'Ascend', 'values': ['-', 1]},\n    {'label': 'Base HP', 'values': ['-', '1030']},\n    {'label': 'Base ATK', 'values': ['-', '20']},\n    {'label': 'Base DEF', 'values': ['-', '68']},\n    {'label': 'Geo DMG Bonus', 'values': ['-', '0.0%']}]},\n  {'level': [20],\n   'stats': [{'label': 'Ascend', 'values': [0, 1]},\n    {'label': 'Base HP', 'values': ['2671', '3554']},\n    {'label': 'Base ATK', 'values': ['51', '67']},\n    {'label': 'Base DEF', 'values': ['177', '235']},\n    {'label': 'Geo DMG Bonus', 'values': ['0.0%', '0.0%']}]},\n  {'level': [40],\n   'cost': 20000,\n   'stats': [{'label': 'Ascend', 'values': [1, 2]},\n    {'label': 'Base HP', 'values': ['5317', '5944']},\n    {'label': 'Base ATK', 'values': ['101', '113']},\n    {'label': 'Base DEF', 'values': ['352', '394']},\n    {'label': 'Geo DMG Bonus', 'values': ['0.0%', '7.2%']}],\n   'mat1': {'_id': 104171,\n    'id': 'prithivaTopazSliver',\n    'name': 'Prithiva Topaz Sliver',\n    'amount': 1,\n    'rarity': 2},\n   'mat3': {'_id': 100023,\n    'id': 'cecilia',\n    'name': 'Cecilia',\n    'amount': 3,\n    'rarity': 1},\n   'mat4': {'_id': 112008,\n    'id': 'diviningScroll',\n    'name': 'Divining Scroll',\n    'amount': 3,\n    'rarity': 1}},\n  {'level': [50],\n   'cost': 40000,\n   'stats': [{'label': 'Ascend', 'values': [2, 3]},\n    {'label': 'Base HP', 'values': ['6839', '7675']},\n    {'label': 'Base ATK', 'values': ['130', '146']},\n    {'label': 'Base DEF', 'values': ['453', '508']},\n    {'label': 'Geo DMG Bonus', 'values': ['7.2%', '14.4%']}],\n   'mat1': {'_id': 104172,\n    'id': 'prithivaTopazFragment',\n    'name': 'Prithiva Topaz Fragment',\n    'amount': 3,\n    'rarity': 3},\n   'mat2': {'_id': 113009,\n    'id': 'basaltPillar',\n    'name': 'Basalt Pillar',\n    'amount': 2,\n    'rarity': 4},\n   'mat3': {'_id': 100023,\n    'id': 'cecilia',\n    'name': 'Cecilia',\n    'amount': 10,\n    'rarity': 1},\n   'mat4': {'_id': 112008,\n    'id': 'diviningScroll',\n    'name': 'Divining Scroll',\n    'amount': 15,\n    'rarity': 1}},\n  {'level': [60],\n   'cost': 60000,\n   'stats': [{'label': 'Ascend', 'values': [3, 4]},\n    {'label': 'Base HP', 'values': ['8579', '9207']},\n    {'label': 'Base ATK', 'values': ['163', '175']},\n    {'label': 'Base DEF', 'values': ['568', '610']},\n    {'label': 'Geo DMG Bonus', 'values': ['14.4%', '14.4%']}],\n   'mat1': {'_id': 104172,\n    'id': 'prithivaTopazFragment',\n    'name': 'Prithiva Topaz Fragment',\n    'amount': 6,\n    'rarity': 3},\n   'mat2': {'_id': 113009,\n    'id': 'basaltPillar',\n    'name': 'Basalt Pillar',\n    'amount': 4,\n    'rarity': 4},\n   'mat3': {'_id': 100023,\n    'id': 'cecilia',\n    'name': 'Cecilia',\n    'amount': 20,\n    'rarity': 1},\n   'mat4': {'_id': 112009,\n    'id': 'sealedScroll',\n    'name': 'Sealed Scroll',\n    'amount': 12,\n    'rarity': 2}},\n  {'level': [70],\n   'cost': 80000,\n   'stats': [{'label': 'Ascend', 'values': [4, 5]},\n    {'label': 'Base HP', 'values': ['10119', '10746']},\n    {'label': 'Base ATK', 'values': ['192', '204']},\n    {'label': 'Base DEF', 'values': ['670', '712']},\n    {'label': 'Geo DMG Bonus', 'values': ['14.4%', '21.6%']}],\n   'mat1': {'_id': 104173,\n    'id': 'prithivaTopazChunk',\n    'name': 'Prithiva Topaz Chunk',\n    'amount': 3,\n    'rarity': 4},\n   'mat2': {'_id': 113009,\n    'id': 'basaltPillar',\n    'name': 'Basalt Pillar',\n    'amount': 8,\n    'rarity': 4},\n   'mat3': {'_id': 100023,\n    'id': 'cecilia',\n    'name': 'Cecilia',\n    'amount': 30,\n    'rarity': 1},\n   'mat4': {'_id': 112009,\n    'id': 'sealedScroll',\n    'name': 'Sealed Scroll',\n    'amount': 18,\n    'rarity': 2}},\n  {'level': [80],\n   'cost': 100000,\n   'stats': [{'label': 'Ascend', 'values': [5, 6]},\n    {'label': 'Base HP', 'values': ['11669', '12296']},\n    {'label': 'Base ATK', 'values': ['222', '233']},\n    {'label': 'Base DEF', 'values': ['773', '815']},\n    {'label': 'Geo DMG Bonus', 'values': ['21.6%', '28.8%']}],\n   'mat1': {'_id': 104173,\n    'id': 'prithivaTopazChunk',\n    'name': 'Prithiva Topaz Chunk',\n    'amount': 6,\n    'rarity': 4},\n   'mat2': {'_id': 113009,\n    'id': 'basaltPillar',\n    'name': 'Basalt Pillar',\n    'amount': 12,\n    'rarity': 4},\n   'mat3': {'_id': 100023,\n    'id': 'cecilia',\n    'name': 'Cecilia',\n    'amount': 45,\n    'rarity': 1},\n   'mat4': {'_id': 112010,\n    'id': 'forbiddenCurseScroll',\n    'name': 'Forbidden Curse Scroll',\n    'amount': 12,\n    'rarity': 3}},\n  {'level': [90],\n   'cost': 120000,\n   'stats': [{'label': 'Ascend', 'values': [6, 7]},\n    {'label': 'Base HP', 'values': ['13226', '13226']},\n    {'label': 'Base ATK', 'values': ['251', '251']},\n    {'label': 'Base DEF', 'values': ['876', '876']},\n    {'label': 'Geo DMG Bonus', 'values': ['28.8%', '28.8%']}],\n   'mat1': {'_id': 104174,\n    'id': 'prithivaTopazGemstone',\n    'name': 'Prithiva Topaz Gemstone',\n    'amount': 6,\n    'rarity': 5},\n   'mat2': {'_id': 113009,\n    'id': 'basaltPillar',\n    'name': 'Basalt Pillar',\n    'amount': 20,\n    'rarity': 4},\n   'mat3': {'_id': 100023,\n    'id': 'cecilia',\n    'name': 'Cecilia',\n    'amount': 60,\n    'rarity': 1},\n   'mat4': {'_id': 112010,\n    'id': 'forbiddenCurseScroll',\n    'name': 'Forbidden Curse Scroll',\n    'amount': 24,\n    'rarity': 3}}],\n 'talent_materials': [{'level': 2,\n   'cost': 12500,\n   'items': [{'_id': 104307,\n     'id': 'teachingsOfBallad',\n     'name': 'Teachings of Ballad',\n     'amount': 3,\n     'rarity': 2},\n    {'_id': 112008,\n     'id': 'diviningScroll',\n     'name': 'Divining Scroll',\n     'amount': 6,\n     'rarity': 1}]},\n  {'level': 3,\n   'cost': 17500,\n   'items': [{'_id': 104308,\n     'id': 'guideToBallad',\n     'name': 'Guide to Ballad',\n     'amount': 2,\n     'rarity': 3},\n    {'_id': 112009,\n     'id': 'sealedScroll',\n     'name': 'Sealed Scroll',\n     'amount': 3,\n     'rarity': 2}]},\n  {'level': 4,\n   'cost': 25000,\n   'items': [{'_id': 104308,\n     'id': 'guideToBallad',\n     'name': 'Guide to Ballad',\n     'amount': 4,\n     'rarity': 3},\n    {'_id': 112009,\n     'id': 'sealedScroll',\n     'name': 'Sealed Scroll',\n     'amount': 4,\n     'rarity': 2}]},\n  {'level': 5,\n   'cost': 30000,\n   'items': [{'_id': 104308,\n     'id': 'guideToBallad',\n     'name': 'Guide to Ballad',\n     'amount': 6,\n     'rarity': 3},\n    {'_id': 112009,\n     'id': 'sealedScroll',\n     'name': 'Sealed Scroll',\n     'amount': 6,\n     'rarity': 2}]},\n  {'level': 6,\n   'cost': 37500,\n   'items': [{'_id': 104308,\n     'id': 'guideToBallad',\n     'name': 'Guide to Ballad',\n     'amount': 9,\n     'rarity': 3},\n    {'_id': 112009,\n     'id': 'sealedScroll',\n     'name': 'Sealed Scroll',\n     'amount': 9,\n     'rarity': 2}]},\n  {'level': 7,\n   'cost': 120000,\n   'items': [{'_id': 104309,\n     'id': 'philosophiesOfBallad',\n     'name': 'Philosophies of Ballad',\n     'amount': 4,\n     'rarity': 4},\n    {'_id': 112010,\n     'id': 'forbiddenCurseScroll',\n     'name': 'Forbidden Curse Scroll',\n     'amount': 4,\n     'rarity': 3},\n    {'_id': 113013,\n     'id': 'tuskOfMonocerosCaeli',\n     'name': 'Tusk of Monoceros Caeli',\n     'amount': 1,\n     'rarity': 5}]},\n  {'level': 8,\n   'cost': 260000,\n   'items': [{'_id': 104309,\n     'id': 'philosophiesOfBallad',\n     'name': 'Philosophies of Ballad',\n     'amount': 6,\n     'rarity': 4},\n    {'_id': 112010,\n     'id': 'forbiddenCurseScroll',\n     'name': 'Forbidden Curse Scroll',\n     'amount': 6,\n     'rarity': 3},\n    {'_id': 113013,\n     'id': 'tuskOfMonocerosCaeli',\n     'name': 'Tusk of Monoceros Caeli',\n     'amount': 1,\n     'rarity': 5}]},\n  {'level': 9,\n   'cost': 450000,\n   'items': [{'_id': 104309,\n     'id': 'philosophiesOfBallad',\n     'name': 'Philosophies of Ballad',\n     'amount': 12,\n     'rarity': 4},\n    {'_id': 112010,\n     'id': 'forbiddenCurseScroll',\n     'name': 'Forbidden Curse Scroll',\n     'amount': 9,\n     'rarity': 3},\n    {'_id': 113013,\n     'id': 'tuskOfMonocerosCaeli',\n     'name': 'Tusk of Monoceros Caeli',\n     'amount': 2,\n     'rarity': 5}]},\n  {'level': 10,\n   'cost': 700000,\n   'items': [{'_id': 104309,\n     'id': 'philosophiesOfBallad',\n     'name': 'Philosophies of Ballad',\n     'amount': 16,\n     'rarity': 4},\n    {'_id': 112010,\n     'id': 'forbiddenCurseScroll',\n     'name': 'Forbidden Curse Scroll',\n     'amount': 12,\n     'rarity': 3},\n    {'_id': 113013,\n     'id': 'tuskOfMonocerosCaeli',\n     'name': 'Tusk of Monoceros Caeli',\n     'amount': 2,\n     'rarity': 5},\n    {'_id': 104319,\n     'id': 'crownOfInsight',\n     'name': 'Crown of Insight',\n     'amount': 1,\n     'rarity': 5}]}]}"
     },
     "execution_count": 28,
     "metadata": {},
     "output_type": "execute_result"
    }
   ],
   "source": [
    "albedo[\"id\"] = pascal(albedo[\"id\"])\n",
    "for skill in albedo[\"skills\"]:\n",
    "    skill[\"id\"] = pascal(skill[\"id\"])\n",
    "for passive in albedo[\"passives\"]:\n",
    "    passive[\"id\"] = pascal(passive[\"id\"])\n",
    "for const in albedo[\"constellations\"]:\n",
    "    const[\"id\"] = pascal(const[\"id\"])\n",
    "for asc in albedo[\"ascension\"]:\n",
    "    for key in asc:\n",
    "        if \"mat\" in key:\n",
    "            asc[key][\"id\"] = pascal(asc[key][\"id\"])\n",
    "for tal in albedo[\"talent_materials\"]:\n",
    "    for item in tal[\"items\"]:\n",
    "        item[\"id\"] = pascal(item[\"id\"])\n",
    "\n",
    "with open(\"../data/EN/Character/albedo.json\", \"w\", encoding=\"utf-8\") as f:\n",
    "    json.dump(albedo, f, ensure_ascii=False, indent=\"\\t\")\n",
    "\n",
    "albedo"
   ],
   "metadata": {
    "collapsed": false,
    "pycharm": {
     "name": "#%%\n"
    }
   }
  },
  {
   "cell_type": "code",
   "execution_count": 31,
   "outputs": [
    {
     "name": "stdout",
     "output_type": "stream",
     "text": [
      "Language: ../data/DE\n",
      "  Pascal DONE File: ../data/DE\\Character\\Albedo.json\n",
      "  Pascal DONE File: ../data/DE\\Character\\Alhaitham.json\n",
      "  Pascal DONE File: ../data/DE\\Character\\Aloy.json\n",
      "  Pascal DONE File: ../data/DE\\Character\\Amber.json\n",
      "  Pascal DONE File: ../data/DE\\Character\\AratakiItto.json\n",
      "  Pascal DONE File: ../data/DE\\Character\\Baizhu.json\n",
      "  Pascal DONE File: ../data/DE\\Character\\Barbara.json\n",
      "  Pascal DONE File: ../data/DE\\Character\\Beidou.json\n",
      "  Pascal DONE File: ../data/DE\\Character\\Bennett.json\n",
      "  Pascal DONE File: ../data/DE\\Character\\Candace.json\n",
      "  Pascal DONE File: ../data/DE\\Character\\Charlotte.json\n",
      "  Pascal DONE File: ../data/DE\\Character\\Chevreuse.json\n",
      "  Pascal DONE File: ../data/DE\\Character\\Chongyun.json\n",
      "  Pascal DONE File: ../data/DE\\Character\\Collei.json\n",
      "  Pascal DONE File: ../data/DE\\Character\\Cyno.json\n",
      "  Pascal DONE File: ../data/DE\\Character\\Dehya.json\n",
      "  Pascal DONE File: ../data/DE\\Character\\Diluc.json\n",
      "  Pascal DONE File: ../data/DE\\Character\\Diona.json\n",
      "  Pascal DONE File: ../data/DE\\Character\\Dori.json\n",
      "  Pascal DONE File: ../data/DE\\Character\\Eula.json\n",
      "  Pascal DONE File: ../data/DE\\Character\\Faruzan.json\n",
      "  Pascal DONE File: ../data/DE\\Character\\Fischl.json\n",
      "  Pascal DONE File: ../data/DE\\Character\\Freminet.json\n",
      "  Pascal DONE File: ../data/DE\\Character\\Furina.json\n",
      "  Pascal DONE File: ../data/DE\\Character\\Ganyu.json\n",
      "  Pascal DONE File: ../data/DE\\Character\\Gorou.json\n",
      "  Pascal DONE File: ../data/DE\\Character\\HuTao.json\n",
      "  Pascal DONE File: ../data/DE\\Character\\Jean.json\n",
      "  Pascal DONE File: ../data/DE\\Character\\KaedeharaKazuha.json\n",
      "  Pascal DONE File: ../data/DE\\Character\\Kaeya.json\n",
      "  Pascal DONE File: ../data/DE\\Character\\KamisatoAyaka.json\n",
      "  Pascal DONE File: ../data/DE\\Character\\KamisatoAyato.json\n",
      "  Pascal DONE File: ../data/DE\\Character\\Kaveh.json\n",
      "  Pascal DONE File: ../data/DE\\Character\\Keqing.json\n",
      "  Pascal DONE File: ../data/DE\\Character\\Kirara.json\n",
      "  Pascal DONE File: ../data/DE\\Character\\Klee.json\n",
      "  Pascal DONE File: ../data/DE\\Character\\KujouSara.json\n",
      "  Pascal DONE File: ../data/DE\\Character\\KukiShinobu.json\n",
      "  Pascal DONE File: ../data/DE\\Character\\Layla.json\n",
      "  Pascal DONE File: ../data/DE\\Character\\Lisa.json\n",
      "  Pascal DONE File: ../data/DE\\Character\\Lynette.json\n",
      "  Pascal DONE File: ../data/DE\\Character\\Lyney.json\n",
      "  Pascal DONE File: ../data/DE\\Character\\Mika.json\n",
      "  Pascal DONE File: ../data/DE\\Character\\Mona.json\n",
      "  Pascal DONE File: ../data/DE\\Character\\Nahida.json\n",
      "  Pascal DONE File: ../data/DE\\Character\\Navia.json\n",
      "  Pascal DONE File: ../data/DE\\Character\\Neuvillette.json\n",
      "  Pascal DONE File: ../data/DE\\Character\\Nilou.json\n",
      "  Pascal DONE File: ../data/DE\\Character\\Ningguang.json\n",
      "  Pascal DONE File: ../data/DE\\Character\\Noelle.json\n",
      "  Pascal DONE File: ../data/DE\\Character\\Qiqi.json\n",
      "  Pascal DONE File: ../data/DE\\Character\\RaidenShogun.json\n",
      "  Pascal DONE File: ../data/DE\\Character\\Razor.json\n",
      "  Pascal DONE File: ../data/DE\\Character\\Rosaria.json\n",
      "  Pascal DONE File: ../data/DE\\Character\\SangonomiyaKokomi.json\n",
      "  Pascal DONE File: ../data/DE\\Character\\Sayu.json\n",
      "  Pascal DONE File: ../data/DE\\Character\\Shenhe.json\n",
      "  Pascal DONE File: ../data/DE\\Character\\ShikanoinHeizou.json\n",
      "  Pascal DONE File: ../data/DE\\Character\\Sucrose.json\n",
      "  Pascal DONE File: ../data/DE\\Character\\Tartaglia.json\n",
      "  Pascal DONE File: ../data/DE\\Character\\Thoma.json\n",
      "  Pascal DONE File: ../data/DE\\Character\\Tighnari.json\n",
      "  Pascal DONE File: ../data/DE\\Character\\TravelerAnemo.json\n",
      "  Pascal DONE File: ../data/DE\\Character\\TravelerDendro.json\n",
      "  Pascal DONE File: ../data/DE\\Character\\TravelerElectro.json\n",
      "  Pascal DONE File: ../data/DE\\Character\\TravelerGeo.json\n",
      "  Pascal DONE File: ../data/DE\\Character\\TravelerHydro.json\n",
      "  Pascal DONE File: ../data/DE\\Character\\Venti.json\n",
      "  Pascal DONE File: ../data/DE\\Character\\Wanderer.json\n",
      "  Pascal DONE File: ../data/DE\\Character\\Wriothesley.json\n",
      "  Pascal DONE File: ../data/DE\\Character\\Xiangling.json\n",
      "  Pascal DONE File: ../data/DE\\Character\\Xiao.json\n",
      "  Pascal DONE File: ../data/DE\\Character\\Xingqiu.json\n",
      "  Pascal DONE File: ../data/DE\\Character\\Xinyan.json\n",
      "  Pascal DONE File: ../data/DE\\Character\\YaeMiko.json\n",
      "  Pascal DONE File: ../data/DE\\Character\\Yanfei.json\n",
      "  Pascal DONE File: ../data/DE\\Character\\Yaoyao.json\n",
      "  Pascal DONE File: ../data/DE\\Character\\Yelan.json\n",
      "  Pascal DONE File: ../data/DE\\Character\\Yoimiya.json\n",
      "  Pascal DONE File: ../data/DE\\Character\\YunJin.json\n",
      "  Pascal DONE File: ../data/DE\\Character\\Zhongli.json\n",
      "Language: ../data/EN\n",
      "  Pascal DONE File: ../data/EN\\Character\\albedo.json\n",
      "  Pascal DONE File: ../data/EN\\Character\\alhaitham.json\n",
      "  Pascal DONE File: ../data/EN\\Character\\aloy.json\n",
      "  Pascal DONE File: ../data/EN\\Character\\amber.json\n",
      "  Pascal DONE File: ../data/EN\\Character\\AratakiItto.json\n",
      "  Pascal DONE File: ../data/EN\\Character\\baizhu.json\n",
      "  Pascal DONE File: ../data/EN\\Character\\barbara.json\n",
      "  Pascal DONE File: ../data/EN\\Character\\beidou.json\n",
      "  Pascal DONE File: ../data/EN\\Character\\bennett.json\n",
      "  Pascal DONE File: ../data/EN\\Character\\candace.json\n",
      "  Pascal DONE File: ../data/EN\\Character\\charlotte.json\n",
      "  Pascal DONE File: ../data/EN\\Character\\chevreuse.json\n",
      "  Pascal DONE File: ../data/EN\\Character\\chongyun.json\n",
      "  Pascal DONE File: ../data/EN\\Character\\collei.json\n",
      "  Pascal DONE File: ../data/EN\\Character\\cyno.json\n",
      "  Pascal DONE File: ../data/EN\\Character\\dehya.json\n",
      "  Pascal DONE File: ../data/EN\\Character\\diluc.json\n",
      "  Pascal DONE File: ../data/EN\\Character\\diona.json\n",
      "  Pascal DONE File: ../data/EN\\Character\\dori.json\n",
      "  Pascal DONE File: ../data/EN\\Character\\eula.json\n",
      "  Pascal DONE File: ../data/EN\\Character\\faruzan.json\n",
      "  Pascal DONE File: ../data/EN\\Character\\fischl.json\n",
      "  Pascal DONE File: ../data/EN\\Character\\freminet.json\n",
      "  Pascal DONE File: ../data/EN\\Character\\furina.json\n",
      "  Pascal DONE File: ../data/EN\\Character\\ganyu.json\n",
      "  Pascal DONE File: ../data/EN\\Character\\gorou.json\n",
      "  Pascal DONE File: ../data/EN\\Character\\HuTao.json\n",
      "  Pascal DONE File: ../data/EN\\Character\\jean.json\n",
      "  Pascal DONE File: ../data/EN\\Character\\KaedeharaKazuha.json\n",
      "  Pascal DONE File: ../data/EN\\Character\\kaeya.json\n",
      "  Pascal DONE File: ../data/EN\\Character\\KamisatoAyaka.json\n",
      "  Pascal DONE File: ../data/EN\\Character\\KamisatoAyato.json\n",
      "  Pascal DONE File: ../data/EN\\Character\\kaveh.json\n",
      "  Pascal DONE File: ../data/EN\\Character\\keqing.json\n",
      "  Pascal DONE File: ../data/EN\\Character\\kirara.json\n",
      "  Pascal DONE File: ../data/EN\\Character\\klee.json\n",
      "  Pascal DONE File: ../data/EN\\Character\\KujouSara.json\n",
      "  Pascal DONE File: ../data/EN\\Character\\KukiShinobu.json\n",
      "  Pascal DONE File: ../data/EN\\Character\\layla.json\n",
      "  Pascal DONE File: ../data/EN\\Character\\lisa.json\n",
      "  Pascal DONE File: ../data/EN\\Character\\lynette.json\n",
      "  Pascal DONE File: ../data/EN\\Character\\lyney.json\n",
      "  Pascal DONE File: ../data/EN\\Character\\mika.json\n",
      "  Pascal DONE File: ../data/EN\\Character\\mona.json\n",
      "  Pascal DONE File: ../data/EN\\Character\\nahida.json\n"
     ]
    },
    {
     "ename": "KeyError",
     "evalue": "'talent_materials'",
     "output_type": "error",
     "traceback": [
      "\u001B[1;31m---------------------------------------------------------------------------\u001B[0m",
      "\u001B[1;31mKeyError\u001B[0m                                  Traceback (most recent call last)",
      "Input \u001B[1;32mIn [31]\u001B[0m, in \u001B[0;36m<cell line: 25>\u001B[1;34m()\u001B[0m\n\u001B[0;32m     33\u001B[0m \u001B[38;5;28;01mfor\u001B[39;00m char \u001B[38;5;129;01min\u001B[39;00m files:\n\u001B[0;32m     34\u001B[0m     char_path \u001B[38;5;241m=\u001B[39m os\u001B[38;5;241m.\u001B[39mpath\u001B[38;5;241m.\u001B[39mjoin(root, char)\n\u001B[1;32m---> 35\u001B[0m     \u001B[43mpascalChar\u001B[49m\u001B[43m(\u001B[49m\u001B[43mchar_path\u001B[49m\u001B[43m)\u001B[49m\n\u001B[0;32m     36\u001B[0m     \u001B[38;5;28mprint\u001B[39m(\u001B[38;5;124mf\u001B[39m\u001B[38;5;124m\"\u001B[39m\u001B[38;5;124m  Pascal DONE File: \u001B[39m\u001B[38;5;132;01m{\u001B[39;00mchar_path\u001B[38;5;132;01m}\u001B[39;00m\u001B[38;5;124m\"\u001B[39m)\n",
      "Input \u001B[1;32mIn [31]\u001B[0m, in \u001B[0;36mpascalChar\u001B[1;34m(char_path)\u001B[0m\n\u001B[0;32m     14\u001B[0m         \u001B[38;5;28;01mif\u001B[39;00m \u001B[38;5;124m\"\u001B[39m\u001B[38;5;124mmat\u001B[39m\u001B[38;5;124m\"\u001B[39m \u001B[38;5;129;01min\u001B[39;00m key:\n\u001B[0;32m     15\u001B[0m             asc[key][\u001B[38;5;124m\"\u001B[39m\u001B[38;5;124mid\u001B[39m\u001B[38;5;124m\"\u001B[39m] \u001B[38;5;241m=\u001B[39m pascal(asc[key][\u001B[38;5;124m\"\u001B[39m\u001B[38;5;124mid\u001B[39m\u001B[38;5;124m\"\u001B[39m])\n\u001B[1;32m---> 16\u001B[0m \u001B[38;5;28;01mfor\u001B[39;00m tal \u001B[38;5;129;01min\u001B[39;00m \u001B[43mchar\u001B[49m\u001B[43m[\u001B[49m\u001B[38;5;124;43m\"\u001B[39;49m\u001B[38;5;124;43mtalent_materials\u001B[39;49m\u001B[38;5;124;43m\"\u001B[39;49m\u001B[43m]\u001B[49m:\n\u001B[0;32m     17\u001B[0m     \u001B[38;5;28;01mfor\u001B[39;00m item \u001B[38;5;129;01min\u001B[39;00m tal[\u001B[38;5;124m\"\u001B[39m\u001B[38;5;124mitems\u001B[39m\u001B[38;5;124m\"\u001B[39m]:\n\u001B[0;32m     18\u001B[0m         item[\u001B[38;5;124m\"\u001B[39m\u001B[38;5;124mid\u001B[39m\u001B[38;5;124m\"\u001B[39m] \u001B[38;5;241m=\u001B[39m pascal(item[\u001B[38;5;124m\"\u001B[39m\u001B[38;5;124mid\u001B[39m\u001B[38;5;124m\"\u001B[39m])\n",
      "\u001B[1;31mKeyError\u001B[0m: 'talent_materials'"
     ]
    }
   ],
   "source": [
    "def pascalChar(char_path):\n",
    "    with open(char_path, \"r\", encoding=\"utf-8\") as f:\n",
    "        char = json.load(f)\n",
    "\n",
    "    char[\"id\"] = pascal(char[\"id\"])\n",
    "    for skill in char[\"skills\"]:\n",
    "        skill[\"id\"] = pascal(skill[\"id\"])\n",
    "    for passive in char[\"passives\"]:\n",
    "        passive[\"id\"] = pascal(passive[\"id\"])\n",
    "    for const in char[\"constellations\"]:\n",
    "        const[\"id\"] = pascal(const[\"id\"])\n",
    "    for asc in char[\"ascension\"]:\n",
    "        for key in asc:\n",
    "            if \"mat\" in key:\n",
    "                asc[key][\"id\"] = pascal(asc[key][\"id\"])\n",
    "    for tal in char[\"talent_materials\"]:\n",
    "        for item in tal[\"items\"]:\n",
    "            item[\"id\"] = pascal(item[\"id\"])\n",
    "\n",
    "    with open(char_path, \"w\", encoding=\"utf-8\") as f:\n",
    "        json.dump(char, f, ensure_ascii=False, indent=\"\\t\")\n",
    "\n",
    "data_dir = \"../data/\"\n",
    "\n",
    "for lang_dir in os.listdir(data_dir):\n",
    "    lang_path = os.path.join(data_dir, lang_dir)\n",
    "\n",
    "    if os.path.isdir(lang_path):\n",
    "        print(f\"Language: {lang_path}\")\n",
    "\n",
    "        chars_path = os.path.join(lang_path, \"Character\")\n",
    "        for root, dirs, files in os.walk(chars_path):\n",
    "            for char in files:\n",
    "                char_path = os.path.join(root, char)\n",
    "                pascalChar(char_path)\n",
    "                print(f\"  Pascal DONE File: {char_path}\")"
   ],
   "metadata": {
    "collapsed": false,
    "pycharm": {
     "name": "#%%\n"
    }
   }
  },
  {
   "cell_type": "code",
   "execution_count": 23,
   "outputs": [],
   "source": [],
   "metadata": {
    "collapsed": false,
    "pycharm": {
     "name": "#%%\n"
    }
   }
  },
  {
   "cell_type": "code",
   "execution_count": 23,
   "outputs": [],
   "source": [],
   "metadata": {
    "collapsed": false,
    "pycharm": {
     "name": "#%%\n"
    }
   }
  }
 ],
 "metadata": {
  "kernelspec": {
   "display_name": "Python 3",
   "language": "python",
   "name": "python3"
  },
  "language_info": {
   "codemirror_mode": {
    "name": "ipython",
    "version": 2
   },
   "file_extension": ".py",
   "mimetype": "text/x-python",
   "name": "python",
   "nbconvert_exporter": "python",
   "pygments_lexer": "ipython2",
   "version": "2.7.6"
  }
 },
 "nbformat": 4,
 "nbformat_minor": 0
}